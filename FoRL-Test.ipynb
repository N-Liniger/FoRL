{
 "cells": [
  {
   "cell_type": "code",
   "execution_count": 1,
   "metadata": {},
   "outputs": [],
   "source": [
    "import gym_examples\n",
    "import numpy as np\n",
    "import gym"
   ]
  },
  {
   "cell_type": "code",
   "execution_count": 2,
   "metadata": {},
   "outputs": [
    {
     "name": "stderr",
     "output_type": "stream",
     "text": [
      "/Users/noahliniger/opt/miniconda3/envs/FORL/lib/python3.9/site-packages/gym/utils/passive_env_checker.py:233: DeprecationWarning: `np.bool8` is a deprecated alias for `np.bool_`.  (Deprecated NumPy 1.24)\n",
      "  if not isinstance(terminated, (bool, np.bool8)):\n",
      "/Users/noahliniger/opt/miniconda3/envs/FORL/lib/python3.9/site-packages/gym/utils/passive_env_checker.py:252: UserWarning: \u001b[33mWARN: The reward returned by `step()` must be a float, int, np.integer or np.floating, actual type: <class 'list'>\u001b[0m\n",
      "  logger.warn(\n"
     ]
    },
    {
     "name": "stdout",
     "output_type": "stream",
     "text": [
      "{'agent': array([2, 0])} [7, 7] False False {}\n",
      "{'agent': array([2, 0])} [7, 7] False False {}\n",
      "{'agent': array([2, 0])} [7, 7] False False {}\n",
      "{'agent': array([2, 2])} [9, 9] False False {}\n",
      "{'agent': array([2, 2])} [9, 9] False False {}\n",
      "{'agent': array([0, 2])} [3, 3] False False {}\n",
      "{'agent': array([2, 2])} [9, 9] False False {}\n",
      "{'agent': array([2, 2])} [9, 9] False False {}\n",
      "{'agent': array([2, 0])} [7, 7] False False {}\n",
      "{'agent': array([2, 0])} [7, 7] False False {}\n",
      "{'agent': array([2, 0])} [7, 7] False False {}\n",
      "{'agent': array([2, 0])} [7, 7] False False {}\n",
      "{'agent': array([2, 0])} [7, 7] False False {}\n",
      "{'agent': array([2, 2])} [9, 9] False False {}\n",
      "{'agent': array([2, 2])} [9, 9] False False {}\n",
      "{'agent': array([2, 0])} [7, 7] False False {}\n",
      "{'agent': array([2, 0])} [7, 7] False False {}\n",
      "{'agent': array([2, 0])} [7, 7] False False {}\n",
      "{'agent': array([2, 2])} [9, 9] False False {}\n",
      "{'agent': array([2, 0])} [7, 7] False False {}\n",
      "{'agent': array([2, 0])} [7, 7] False False {}\n",
      "{'agent': array([2, 0])} [7, 7] False False {}\n",
      "{'agent': array([2, 0])} [7, 7] False False {}\n",
      "{'agent': array([2, 2])} [9, 9] False False {}\n",
      "{'agent': array([2, 2])} [9, 9] False False {}\n",
      "{'agent': array([2, 2])} [9, 9] False False {}\n",
      "{'agent': array([2, 2])} [9, 9] False False {}\n",
      "{'agent': array([2, 0])} [7, 7] False False {}\n",
      "{'agent': array([2, 0])} [7, 7] False False {}\n",
      "{'agent': array([2, 0])} [7, 7] False False {}\n",
      "{'agent': array([2, 0])} [7, 7] False False {}\n",
      "{'agent': array([2, 0])} [7, 7] False False {}\n",
      "{'agent': array([2, 2])} [9, 9] False False {}\n",
      "{'agent': array([2, 2])} [9, 9] False False {}\n",
      "{'agent': array([2, 0])} [7, 7] False False {}\n",
      "{'agent': array([2, 0])} [7, 7] False False {}\n",
      "{'agent': array([2, 0])} [7, 7] False False {}\n",
      "{'agent': array([2, 0])} [7, 7] False False {}\n",
      "{'agent': array([2, 0])} [7, 7] False False {}\n",
      "{'agent': array([2, 0])} [7, 7] False False {}\n",
      "{'agent': array([2, 0])} [7, 7] False False {}\n",
      "{'agent': array([2, 0])} [7, 7] False False {}\n",
      "{'agent': array([2, 0])} [7, 7] False False {}\n",
      "{'agent': array([2, 0])} [7, 7] False False {}\n",
      "{'agent': array([2, 2])} [9, 9] False False {}\n",
      "{'agent': array([2, 0])} [7, 7] False False {}\n",
      "{'agent': array([2, 0])} [7, 7] False False {}\n",
      "{'agent': array([2, 0])} [7, 7] False False {}\n",
      "{'agent': array([2, 0])} [7, 7] False False {}\n",
      "{'agent': array([2, 2])} [9, 9] False False {}\n",
      "{'agent': array([2, 2])} [9, 9] False False {}\n",
      "{'agent': array([2, 0])} [7, 7] False False {}\n",
      "{'agent': array([2, 0])} [7, 7] False False {}\n",
      "{'agent': array([2, 2])} [9, 9] False False {}\n",
      "{'agent': array([2, 2])} [9, 9] False False {}\n",
      "{'agent': array([2, 2])} [9, 9] False False {}\n",
      "{'agent': array([2, 2])} [9, 9] False False {}\n",
      "{'agent': array([2, 0])} [7, 7] False False {}\n",
      "{'agent': array([2, 0])} [7, 7] False False {}\n",
      "{'agent': array([2, 0])} [7, 7] False False {}\n",
      "{'agent': array([2, 2])} [9, 9] False False {}\n",
      "{'agent': array([0, 2])} [3, 3] False False {}\n",
      "{'agent': array([0, 2])} [3, 3] False False {}\n",
      "{'agent': array([2, 2])} [9, 9] False False {}\n",
      "{'agent': array([2, 0])} [7, 7] False False {}\n",
      "{'agent': array([2, 0])} [7, 7] False False {}\n",
      "{'agent': array([2, 0])} [7, 7] False False {}\n",
      "{'agent': array([2, 0])} [7, 7] False False {}\n",
      "{'agent': array([2, 0])} [7, 7] False False {}\n",
      "{'agent': array([2, 0])} [7, 7] False False {}\n",
      "{'agent': array([2, 0])} [7, 7] False False {}\n",
      "{'agent': array([2, 0])} [7, 7] False False {}\n",
      "{'agent': array([2, 0])} [7, 7] False False {}\n",
      "{'agent': array([2, 0])} [7, 7] False False {}\n",
      "{'agent': array([2, 2])} [9, 9] False False {}\n",
      "{'agent': array([2, 2])} [9, 9] False False {}\n",
      "{'agent': array([2, 2])} [9, 9] False False {}\n",
      "{'agent': array([2, 0])} [7, 7] False False {}\n",
      "{'agent': array([2, 0])} [7, 7] False False {}\n",
      "{'agent': array([2, 0])} [7, 7] False False {}\n",
      "{'agent': array([2, 0])} [7, 7] False False {}\n",
      "{'agent': array([2, 2])} [9, 9] False False {}\n",
      "{'agent': array([0, 2])} [3, 3] False False {}\n",
      "{'agent': array([0, 2])} [3, 3] False False {}\n",
      "{'agent': array([0, 0])} [1, 1] False False {}\n",
      "{'agent': array([0, 0])} [1, 1] False False {}\n",
      "{'agent': array([0, 2])} [3, 3] False False {}\n",
      "{'agent': array([2, 2])} [9, 9] False False {}\n",
      "{'agent': array([0, 2])} [3, 3] False False {}\n",
      "{'agent': array([0, 2])} [3, 3] False False {}\n",
      "{'agent': array([0, 2])} [3, 3] False False {}\n",
      "{'agent': array([0, 0])} [1, 1] False False {}\n",
      "{'agent': array([0, 0])} [1, 1] False False {}\n",
      "{'agent': array([0, 0])} [1, 1] False False {}\n",
      "{'agent': array([0, 0])} [1, 1] False False {}\n",
      "{'agent': array([0, 2])} [3, 3] False False {}\n",
      "{'agent': array([0, 0])} [1, 1] False False {}\n",
      "{'agent': array([0, 0])} [1, 1] False False {}\n",
      "{'agent': array([0, 0])} [1, 1] False False {}\n",
      "{'agent': array([0, 2])} [3, 3] False False {}\n"
     ]
    }
   ],
   "source": [
    "env = gym.make('gym_examples/GridWorld-v3', render_mode=\"human\", size=3, \\\n",
    "    rewards=np.array([[1,2,3],[4,5,6],[7,8,9]]), costs=np.array([[1,2,3],[4,5,6],[7,8,9]]))\n",
    "observation, info = env.reset()\n",
    "for _ in range(100):\n",
    "    action = env.action_space.sample()  # agent policy that uses the observation and info\n",
    "    observation, reward_cost, terminated, truncated, info = env.step(action)\n",
    "    print(observation, reward_cost, terminated, truncated, info)\n",
    "\n",
    "    if terminated or truncated:\n",
    "        observation, info = env.reset()\n",
    "        \n",
    "env.close()"
   ]
  },
  {
   "cell_type": "code",
   "execution_count": 11,
   "metadata": {},
   "outputs": [],
   "source": [
    "import numpy as np"
   ]
  },
  {
   "cell_type": "code",
   "execution_count": 3,
   "metadata": {},
   "outputs": [
    {
     "name": "stdout",
     "output_type": "stream",
     "text": [
      "True True False False True False Test: True\n",
      "[1 1]\n"
     ]
    }
   ],
   "source": [
    "#Test on the constraint walls: sturcture: [[x1,y1,x2,y2],[same]]\n",
    "A = np.array([[1,1,2,1],[1,2,2,2]])\n",
    "location = np.array([1,1])\n",
    "direction = np.array([1,0])\n",
    "for constraint in A:\n",
    "    A = np.array_equal(constraint[0:2], location)\n",
    "    B = np.array_equal(constraint[2:5], location + direction)\n",
    "    C = np.array_equal(constraint[2:5], location)\n",
    "    D = np.array_equal(constraint[0:2], location + direction)\n",
    "    A_and_B = A and B\n",
    "    C_and_D = C and D\n",
    "    test = A_and_B or C_and_D\n",
    "    print(A,B,C,D,A_and_B,C_and_D, \"Test:\", test)\n",
    "    if (np.array_equal(constraint[0:2], location)\n",
    "        and np.array_equal(constraint[2:5], location + direction))\\\n",
    "            or (np.array_equal(constraint[2:5], location) \\\n",
    "                and np.array_equal(constraint[0:2], location + direction)):\n",
    "        location = location\n",
    "        break\n",
    "    else:\n",
    "        location = location + direction\n",
    "print(location)"
   ]
  },
  {
   "cell_type": "code",
   "execution_count": 36,
   "metadata": {},
   "outputs": [],
   "source": [
    "A = np.array([])\n"
   ]
  },
  {
   "cell_type": "code",
   "execution_count": 19,
   "metadata": {},
   "outputs": [
    {
     "ename": "AttributeError",
     "evalue": "'numpy.ndarray' object has no attribute 'value'",
     "output_type": "error",
     "traceback": [
      "\u001b[0;31m---------------------------------------------------------------------------\u001b[0m",
      "\u001b[0;31mAttributeError\u001b[0m                            Traceback (most recent call last)",
      "Cell \u001b[0;32mIn[19], line 1\u001b[0m\n\u001b[0;32m----> 1\u001b[0m \u001b[39mprint\u001b[39m(A\u001b[39m.\u001b[39;49mvalue())\n",
      "\u001b[0;31mAttributeError\u001b[0m: 'numpy.ndarray' object has no attribute 'value'"
     ]
    }
   ],
   "source": [
    "print(A.value())"
   ]
  },
  {
   "cell_type": "code",
   "execution_count": null,
   "metadata": {},
   "outputs": [],
   "source": []
  }
 ],
 "metadata": {
  "kernelspec": {
   "display_name": "Python 3.9.16 ('FORL')",
   "language": "python",
   "name": "python3"
  },
  "language_info": {
   "codemirror_mode": {
    "name": "ipython",
    "version": 3
   },
   "file_extension": ".py",
   "mimetype": "text/x-python",
   "name": "python",
   "nbconvert_exporter": "python",
   "pygments_lexer": "ipython3",
   "version": "3.9.16"
  },
  "orig_nbformat": 4,
  "vscode": {
   "interpreter": {
    "hash": "3bc25d0cb4b8219b27234986137c88689bcde7dbbcaab25aad9634a3ce866110"
   }
  }
 },
 "nbformat": 4,
 "nbformat_minor": 2
}
